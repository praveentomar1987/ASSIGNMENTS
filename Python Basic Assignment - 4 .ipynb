{
 "cells": [
  {
   "cell_type": "markdown",
   "id": "0ca5d5fd",
   "metadata": {},
   "source": [
    "## Q1. What exactly is []?"
   ]
  },
  {
   "cell_type": "markdown",
   "id": "ae86dcd0",
   "metadata": {},
   "source": [
    "### ANS1. [] is an empty list which contains no item."
   ]
  },
  {
   "cell_type": "markdown",
   "id": "688753f7",
   "metadata": {},
   "source": [
    "## Q2. In a list of values stored in a variable called spam, how would you assign the value 'hello' as the third value? (Assume [2, 4, 6, 8, 10] are in spam.)\n",
    "\n"
   ]
  },
  {
   "cell_type": "markdown",
   "id": "b78c2e19",
   "metadata": {},
   "source": [
    "### ANS2."
   ]
  },
  {
   "cell_type": "code",
   "execution_count": 1,
   "id": "4dbf07cd",
   "metadata": {},
   "outputs": [
    {
     "name": "stdout",
     "output_type": "stream",
     "text": [
      "[2, 4, 6, 8, 10]\n",
      "[2, 4, 'hello', 8, 10]\n"
     ]
    }
   ],
   "source": [
    "spam=[2,4,6,8,10]\n",
    "print(spam)\n",
    "spam[2]='hello' # using indexing\n",
    "print(spam)"
   ]
  },
  {
   "cell_type": "code",
   "execution_count": 2,
   "id": "7674c71e",
   "metadata": {},
   "outputs": [
    {
     "name": "stdout",
     "output_type": "stream",
     "text": [
      "[2, 4, 6, 8, 10]\n",
      "[2, 4, 'hello', 6, 8, 10]\n"
     ]
    }
   ],
   "source": [
    "spam=[2,4,6,8,10]\n",
    "print(spam)\n",
    "spam.insert(2,'hello') # using insert\n",
    "print(spam)"
   ]
  },
  {
   "cell_type": "markdown",
   "id": "ec7c04f6",
   "metadata": {},
   "source": [
    "### Let's pretend the spam includes the list ['a', 'b', 'c', 'd'] for the next three queries."
   ]
  },
  {
   "cell_type": "markdown",
   "id": "25ac4233",
   "metadata": {},
   "source": [
    "## Q3. What is the value of spam[int(int('3' * 2) / 11)]?\n"
   ]
  },
  {
   "cell_type": "markdown",
   "id": "c7420688",
   "metadata": {},
   "source": [
    "### ANS3."
   ]
  },
  {
   "cell_type": "code",
   "execution_count": 3,
   "id": "30239faa",
   "metadata": {},
   "outputs": [
    {
     "data": {
      "text/plain": [
       "'d'"
      ]
     },
     "execution_count": 3,
     "metadata": {},
     "output_type": "execute_result"
    }
   ],
   "source": [
    "spam=['a', 'b', 'c', 'd'] \n",
    "spam[int(int('3' * 2) / 11)]"
   ]
  },
  {
   "cell_type": "markdown",
   "id": "0d5499f7",
   "metadata": {},
   "source": [
    "### STEP BY STEP CLARIFICATION:-"
   ]
  },
  {
   "cell_type": "code",
   "execution_count": 4,
   "id": "89b4a492",
   "metadata": {},
   "outputs": [
    {
     "data": {
      "text/plain": [
       "'33'"
      ]
     },
     "execution_count": 4,
     "metadata": {},
     "output_type": "execute_result"
    }
   ],
   "source": [
    "('3'* 2)  #repeating the string 3 twice"
   ]
  },
  {
   "cell_type": "code",
   "execution_count": 5,
   "id": "9b1fbad8",
   "metadata": {},
   "outputs": [
    {
     "data": {
      "text/plain": [
       "33"
      ]
     },
     "execution_count": 5,
     "metadata": {},
     "output_type": "execute_result"
    }
   ],
   "source": [
    "(int('3' * 2)) #converting it into the integer"
   ]
  },
  {
   "cell_type": "code",
   "execution_count": 6,
   "id": "b9629277",
   "metadata": {},
   "outputs": [
    {
     "data": {
      "text/plain": [
       "3"
      ]
     },
     "execution_count": 6,
     "metadata": {},
     "output_type": "execute_result"
    }
   ],
   "source": [
    "int(int('3' * 2) / 11) # deviding 33 by 11 and converting into integer"
   ]
  },
  {
   "cell_type": "code",
   "execution_count": 7,
   "id": "15fb8e1e",
   "metadata": {},
   "outputs": [
    {
     "data": {
      "text/plain": [
       "'d'"
      ]
     },
     "execution_count": 7,
     "metadata": {},
     "output_type": "execute_result"
    }
   ],
   "source": [
    "spam[int(int('3' * 2) / 11)] #spam[3] we are searching the item at 3rd index, also note that indexing starts from zero"
   ]
  },
  {
   "cell_type": "markdown",
   "id": "1c30bcff",
   "metadata": {},
   "source": [
    "## Q4. What is the value of spam[-1]?\n"
   ]
  },
  {
   "cell_type": "markdown",
   "id": "ac4c1c4e",
   "metadata": {},
   "source": [
    "### ANS4."
   ]
  },
  {
   "cell_type": "code",
   "execution_count": 8,
   "id": "0ca64e13",
   "metadata": {},
   "outputs": [
    {
     "data": {
      "text/plain": [
       "'d'"
      ]
     },
     "execution_count": 8,
     "metadata": {},
     "output_type": "execute_result"
    }
   ],
   "source": [
    "spam[-1]  # It returns last item from the list"
   ]
  },
  {
   "cell_type": "markdown",
   "id": "abaed946",
   "metadata": {},
   "source": [
    "## Q5. What is the value of spam[:2]?"
   ]
  },
  {
   "cell_type": "markdown",
   "id": "6b860eb2",
   "metadata": {},
   "source": [
    "### ANS5."
   ]
  },
  {
   "cell_type": "code",
   "execution_count": 9,
   "id": "2573b57c",
   "metadata": {},
   "outputs": [
    {
     "data": {
      "text/plain": [
       "['a', 'b']"
      ]
     },
     "execution_count": 9,
     "metadata": {},
     "output_type": "execute_result"
    }
   ],
   "source": [
    "spam[:2] # : selects all items and 2 returns the items which are on index- 0 to 2 where 0 inclusive and 2 exclusive "
   ]
  },
  {
   "cell_type": "markdown",
   "id": "30d9d249",
   "metadata": {},
   "source": [
    "### Let's pretend bacon has the list [3.14, 'cat,' 11, 'cat,' True] for the next three questions."
   ]
  },
  {
   "cell_type": "markdown",
   "id": "573080f0",
   "metadata": {},
   "source": [
    "## Q6. What is the value of bacon.index('cat')?\n"
   ]
  },
  {
   "cell_type": "markdown",
   "id": "8c6b9aff",
   "metadata": {},
   "source": [
    "### ANS6."
   ]
  },
  {
   "cell_type": "code",
   "execution_count": 10,
   "id": "8ac4228a",
   "metadata": {},
   "outputs": [
    {
     "data": {
      "text/plain": [
       "1"
      ]
     },
     "execution_count": 10,
     "metadata": {},
     "output_type": "execute_result"
    }
   ],
   "source": [
    "bacon=[3.14, 'cat', 11, 'cat', True] \n",
    "bacon.index('cat')    #It returns the first matching index "
   ]
  },
  {
   "cell_type": "markdown",
   "id": "1d921507",
   "metadata": {},
   "source": [
    "## Q7. How does bacon.append(99) change the look of the list value in bacon?\n"
   ]
  },
  {
   "cell_type": "markdown",
   "id": "a8505d07",
   "metadata": {},
   "source": [
    "### ANS7."
   ]
  },
  {
   "cell_type": "code",
   "execution_count": 11,
   "id": "656a3ef4",
   "metadata": {},
   "outputs": [
    {
     "name": "stdout",
     "output_type": "stream",
     "text": [
      "[3.14, 'cat', 11, 'cat', True, 99]\n"
     ]
    }
   ],
   "source": [
    "bacon.append(99)\n",
    "print(bacon)  # it appends 99 at the end of the list"
   ]
  },
  {
   "cell_type": "markdown",
   "id": "53c4f265",
   "metadata": {},
   "source": [
    "## Q8. How does bacon.remove('cat') change the look of the list in bacon?\n"
   ]
  },
  {
   "cell_type": "markdown",
   "id": "95e2fb5c",
   "metadata": {},
   "source": [
    "### ANS8."
   ]
  },
  {
   "cell_type": "code",
   "execution_count": 12,
   "id": "84d53f22",
   "metadata": {},
   "outputs": [
    {
     "name": "stdout",
     "output_type": "stream",
     "text": [
      "[3.14, 11, 'cat', True, 99]\n"
     ]
    }
   ],
   "source": [
    "bacon.remove('cat')\n",
    "print(bacon) # it removes first matching element from the list"
   ]
  },
  {
   "cell_type": "markdown",
   "id": "e076de76",
   "metadata": {},
   "source": [
    "## Q9. What are the list concatenation and list replication operators?\n"
   ]
  },
  {
   "cell_type": "markdown",
   "id": "d1b1a051",
   "metadata": {},
   "source": [
    "### ANS9. For concatination we use + and for replication we use *"
   ]
  },
  {
   "cell_type": "code",
   "execution_count": 13,
   "id": "0ca2499d",
   "metadata": {},
   "outputs": [
    {
     "name": "stdout",
     "output_type": "stream",
     "text": [
      "['a', 'b', 'c', 'd', 1, 2, 3, 4]\n",
      "['a', 'b', 'c', 'd', 'a', 'b', 'c', 'd']\n"
     ]
    }
   ],
   "source": [
    "list1=['a','b','c','d']\n",
    "list2=[1,2,3,4]\n",
    "print(list1+list2)\n",
    "print(list1*2)"
   ]
  },
  {
   "cell_type": "markdown",
   "id": "9933778b",
   "metadata": {},
   "source": [
    "## Q10. What is difference between the list methods append() and insert()?\n"
   ]
  },
  {
   "cell_type": "markdown",
   "id": "32e477f3",
   "metadata": {},
   "source": [
    "### ANS10. append adds the element at the end of the list whie insert adds at desired index"
   ]
  },
  {
   "cell_type": "code",
   "execution_count": 14,
   "id": "d0e3b2eb",
   "metadata": {},
   "outputs": [
    {
     "name": "stdout",
     "output_type": "stream",
     "text": [
      "['a', 'b', 'c', 'd', 'praveen']\n",
      "[1, 2, 'tomar', 3, 4]\n"
     ]
    }
   ],
   "source": [
    "list1=['a','b','c','d']\n",
    "list2=[1,2,3,4]\n",
    "list1.append('praveen')\n",
    "list2.insert(2,'tomar')\n",
    "print(list1)\n",
    "print(list2)"
   ]
  },
  {
   "cell_type": "markdown",
   "id": "679ca926",
   "metadata": {},
   "source": [
    "## Q11. What are the two methods for removing items from a list?\n"
   ]
  },
  {
   "cell_type": "markdown",
   "id": "2982e703",
   "metadata": {},
   "source": [
    "### ANS11. pop(), remove()"
   ]
  },
  {
   "cell_type": "code",
   "execution_count": 15,
   "id": "ea1f6daf",
   "metadata": {},
   "outputs": [
    {
     "data": {
      "text/plain": [
       "'praveen'"
      ]
     },
     "execution_count": 15,
     "metadata": {},
     "output_type": "execute_result"
    }
   ],
   "source": [
    "list1.pop()"
   ]
  },
  {
   "cell_type": "code",
   "execution_count": 16,
   "id": "581c2ea6",
   "metadata": {},
   "outputs": [],
   "source": [
    "list2.remove(1)"
   ]
  },
  {
   "cell_type": "code",
   "execution_count": 17,
   "id": "ee937af6",
   "metadata": {},
   "outputs": [
    {
     "data": {
      "text/plain": [
       "[2, 'tomar', 3, 4]"
      ]
     },
     "execution_count": 17,
     "metadata": {},
     "output_type": "execute_result"
    }
   ],
   "source": [
    "list2"
   ]
  },
  {
   "cell_type": "markdown",
   "id": "0ff07616",
   "metadata": {},
   "source": [
    "## Q12. Describe how list values and string values are identical.\n"
   ]
  },
  {
   "cell_type": "markdown",
   "id": "05716acd",
   "metadata": {},
   "source": [
    "### ANS12. 1. Both are sequences, can be passed to len(), have indexes and slices, can be used in for loops, can be concatenated or replicated, can be used with the in and not in operators."
   ]
  },
  {
   "cell_type": "markdown",
   "id": "21992e1d",
   "metadata": {},
   "source": [
    "## Q13. What's the difference between tuples and lists?"
   ]
  },
  {
   "cell_type": "markdown",
   "id": "8ebaafdb",
   "metadata": {},
   "source": [
    "### ANS13. Lists are mutable, square brackets [ ] are used to create the lists .\n",
    "\n",
    "### Tuples are immutable, they cannot be changed at all, we use the parentheses / round brackets ( ) for tuples."
   ]
  },
  {
   "cell_type": "markdown",
   "id": "3ca8c37a",
   "metadata": {},
   "source": [
    "## Q14. How do you type a tuple value that only contains the integer 42?"
   ]
  },
  {
   "cell_type": "markdown",
   "id": "fcf1c387",
   "metadata": {},
   "source": [
    "### ANS14."
   ]
  },
  {
   "cell_type": "code",
   "execution_count": 18,
   "id": "a2162f2d",
   "metadata": {},
   "outputs": [],
   "source": [
    "a=(42)\n",
    "b=(42,) # comma is mendatory otherwise it will create an integer"
   ]
  },
  {
   "cell_type": "code",
   "execution_count": 19,
   "id": "40cf5dd4",
   "metadata": {},
   "outputs": [
    {
     "name": "stdout",
     "output_type": "stream",
     "text": [
      "42\n",
      "(42,)\n"
     ]
    }
   ],
   "source": [
    "print(a)\n",
    "print(b)"
   ]
  },
  {
   "cell_type": "code",
   "execution_count": 20,
   "id": "bb6b8f87",
   "metadata": {},
   "outputs": [
    {
     "name": "stdout",
     "output_type": "stream",
     "text": [
      "<class 'int'>\n",
      "<class 'tuple'>\n"
     ]
    }
   ],
   "source": [
    "print(type(a))\n",
    "print(type(b))"
   ]
  },
  {
   "cell_type": "markdown",
   "id": "8cb278ac",
   "metadata": {},
   "source": [
    "## Q15. How do you get a list value's tuple form? How do you get a tuple value's list form?\n"
   ]
  },
  {
   "cell_type": "markdown",
   "id": "02594a49",
   "metadata": {},
   "source": [
    "### ANS15."
   ]
  },
  {
   "cell_type": "code",
   "execution_count": 21,
   "id": "fde3dc58",
   "metadata": {},
   "outputs": [
    {
     "name": "stdout",
     "output_type": "stream",
     "text": [
      "(2, 'abc', 4)\n",
      "<class 'tuple'>\n"
     ]
    }
   ],
   "source": [
    "c=(2,'abc',4)\n",
    "print(c)\n",
    "print(type(c))"
   ]
  },
  {
   "cell_type": "code",
   "execution_count": 22,
   "id": "9418e55d",
   "metadata": {},
   "outputs": [
    {
     "name": "stdout",
     "output_type": "stream",
     "text": [
      "[2, 'abc', 4]\n",
      "<class 'list'>\n"
     ]
    }
   ],
   "source": [
    "d=list(c) # list() function is used to convert from tuple to list\n",
    "print(d)\n",
    "print(type(d))"
   ]
  },
  {
   "cell_type": "code",
   "execution_count": 23,
   "id": "82f1f1c0",
   "metadata": {},
   "outputs": [
    {
     "name": "stdout",
     "output_type": "stream",
     "text": [
      "(2, 'abc', 4)\n",
      "<class 'tuple'>\n"
     ]
    }
   ],
   "source": [
    "e=tuple(d) #tuple() function is used to convert from list to tuple\n",
    "print(e)\n",
    "print(type(e))"
   ]
  },
  {
   "cell_type": "markdown",
   "id": "6ef976b3",
   "metadata": {},
   "source": [
    "## Q16. Variables that \"contain\" list values are not necessarily lists themselves. Instead, what do they contain?\n"
   ]
  },
  {
   "cell_type": "markdown",
   "id": "9ccc9342",
   "metadata": {},
   "source": [
    "### ANS16. They contain reference of list values."
   ]
  },
  {
   "cell_type": "markdown",
   "id": "04cf32ed",
   "metadata": {},
   "source": [
    "## Q17. How do you distinguish between copy.copy() and copy.deepcopy()?"
   ]
  },
  {
   "cell_type": "markdown",
   "id": "c9a4074a",
   "metadata": {},
   "source": [
    "### ANS17. copy.copy() function will create a shallow copy while copy.deepcopy() function will create a deep copy."
   ]
  },
  {
   "cell_type": "code",
   "execution_count": 24,
   "id": "82031346",
   "metadata": {},
   "outputs": [
    {
     "name": "stdout",
     "output_type": "stream",
     "text": [
      "('tuple is immutable', [1, 2, 3])\n",
      "('tuple is immutable', [1, 2, 3, 'list is mutable'])\n"
     ]
    }
   ],
   "source": [
    "import copy\n",
    "list1=[1,2,3]\n",
    "tup1=('tuple is immutable',list1)\n",
    "tup2=copy.copy(tup1)      #shallow copy\n",
    "print(tup2)\n",
    "list1.append('list is mutable')\n",
    "print(tup2)"
   ]
  },
  {
   "cell_type": "markdown",
   "id": "bfaa18d9",
   "metadata": {},
   "source": [
    "### To avoid this behaviour we'll use deep copy"
   ]
  },
  {
   "cell_type": "code",
   "execution_count": 25,
   "id": "72b5324c",
   "metadata": {},
   "outputs": [
    {
     "name": "stdout",
     "output_type": "stream",
     "text": [
      "('tuple is immutable', [1, 2, 3])\n",
      "('tuple is immutable', [1, 2, 3])\n"
     ]
    }
   ],
   "source": [
    "list1=[1,2,3]\n",
    "tup1=('tuple is immutable',list1)\n",
    "tup2=copy.deepcopy(tup1)  # deepcopy\n",
    "print(tup2)\n",
    "list1.append('list is mutable')\n",
    "print(tup2)"
   ]
  }
 ],
 "metadata": {
  "kernelspec": {
   "display_name": "Python 3 (ipykernel)",
   "language": "python",
   "name": "python3"
  },
  "language_info": {
   "codemirror_mode": {
    "name": "ipython",
    "version": 3
   },
   "file_extension": ".py",
   "mimetype": "text/x-python",
   "name": "python",
   "nbconvert_exporter": "python",
   "pygments_lexer": "ipython3",
   "version": "3.9.7"
  }
 },
 "nbformat": 4,
 "nbformat_minor": 5
}
