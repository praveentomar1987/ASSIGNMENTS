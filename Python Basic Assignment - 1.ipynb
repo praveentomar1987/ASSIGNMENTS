{
 "cells": [
  {
   "cell_type": "markdown",
   "id": "dd1c119d",
   "metadata": {},
   "source": [
    "## Q1. In the below elements which of them are values or an expression? eg:- values can be integer or string and expressions will be mathematical operators.\n",
    "\n",
    "' * \n",
    "  \n",
    "'hello'\n",
    "\n",
    "-87.8\n",
    "\n",
    "-\n",
    "\n",
    "/\n",
    "\n",
    "' +\t\n",
    "\n",
    "6 "
   ]
  },
  {
   "cell_type": "markdown",
   "id": "f7915598",
   "metadata": {},
   "source": [
    "### Ans1. Values are as follows:-\n",
    "\n",
    "### 'hello', -87.8 , 6\n",
    "\n",
    "### Expressions are as follows:-\n",
    "\n",
    "### *, -, /, +"
   ]
  },
  {
   "cell_type": "markdown",
   "id": "b9e4e65b",
   "metadata": {},
   "source": [
    "## Q2. What is the difference between string and variable?"
   ]
  },
  {
   "cell_type": "markdown",
   "id": "28548939",
   "metadata": {},
   "source": [
    "### Ans2. String is the sequence of characters, also called object. String literals in Python are surrounded by either single quotation mark or double quotation mark. Ex. a=\"Python is a programming language\"\n",
    "V/S\n",
    "### Variable is a characteristic of any entity that is capable of taking different values. In Python- Variable is a name given to the memory location where the value is stored in the memory. Ex. X=1 or X=2 or X=3, etc. X is variable."
   ]
  },
  {
   "cell_type": "code",
   "execution_count": 1,
   "id": "297986d0",
   "metadata": {},
   "outputs": [],
   "source": [
    "a=\"Python is a programming language\""
   ]
  },
  {
   "cell_type": "code",
   "execution_count": 2,
   "id": "ed3d9d64",
   "metadata": {},
   "outputs": [
    {
     "data": {
      "text/plain": [
       "'Python is a programming language'"
      ]
     },
     "execution_count": 2,
     "metadata": {},
     "output_type": "execute_result"
    }
   ],
   "source": [
    "a"
   ]
  },
  {
   "cell_type": "markdown",
   "id": "59925793",
   "metadata": {},
   "source": [
    "In the above given example-\n",
    "\n",
    "STRING is 'Python is a programming language'\n",
    "\n",
    "&\n",
    "VARIABLE is a"
   ]
  },
  {
   "cell_type": "markdown",
   "id": "9b8fa6b0",
   "metadata": {},
   "source": [
    "## Q3. Describe three different data types."
   ]
  },
  {
   "cell_type": "markdown",
   "id": "3d136e02",
   "metadata": {},
   "source": [
    "### Ans3. 3 Different data types in Python-\n",
    "1) NUMERIC DATA TYPES:-\n",
    "\n",
    "a) Integer - Whole number, positive or negative without decimals of unlimited length. Ex. 1,2,4,6666,-4555,9999999, etc.\n",
    "\n",
    "b) Float - A number, positive or negative, containing one or more decimals. Ex. 1.o, 1.45, -1.98765, 7.0987, etc.\n",
    "\n",
    "2) STRING DATA TYPES - Sequence of characters, also called object. String literals in Python are surrounded by either single quotation mark or double quotation marks. Ex. \"Hello\", \"Python\", \"Pkt123\", etc.\n",
    "\n",
    "3) BOOLEAN DATA TYPES - There can only be 2 values of such data type. Ex -  True or False. "
   ]
  },
  {
   "cell_type": "markdown",
   "id": "058d86c7",
   "metadata": {},
   "source": [
    "## Q4. What is an expression made up of? What do all expressions do?"
   ]
  },
  {
   "cell_type": "markdown",
   "id": "1e593ace",
   "metadata": {},
   "source": [
    "### Ans4. An Expression is a sequence or combination of values, variables, operators and function calls that always produces or returns a result value.\n",
    "\n",
    "Example: x = 5, y = 3, z = x + y\n",
    "\n",
    "In the above example x, y and z are variables, 5 and 3 are values, = and + are operators.\n",
    "\n",
    "So, the first combination x = 5 is an expression, the second combination y = 3 is an another expression and at last, z = x + y is also an expression.\n",
    "\n",
    "### An Expression always evaluates (calculate) to itself."
   ]
  },
  {
   "cell_type": "markdown",
   "id": "8d1f7c04",
   "metadata": {},
   "source": [
    "## Q5. This assignment statements, like spam = 10. What is the difference between an expression and a statement?"
   ]
  },
  {
   "cell_type": "markdown",
   "id": "e7986786",
   "metadata": {},
   "source": [
    "### Ans5. Any Instruction (command) that a Python interpreter can execute (carry out) is called a statement.\n",
    "\n",
    "Each and every line of code that we write in any programming language is called a statement.\n",
    "\n",
    "Because, all the lines are executable by the interpreter or the compiler of that programming language.\n",
    "\n",
    "### The assignment statement assign a value to the variable.\n",
    "\n",
    "### spam=10, here we have created a varibale which name is spam and we have given/assigned a value to spam i.e. 10.\n",
    "\n",
    "print(spam) - It's a print statement that displays the value of spam.\n",
    "\n",
    "### Difference b/w Expression and Statement:-\n",
    " 1) An expression evaluates to a value\twhile a statement executes something\n",
    " \n",
    "2) Evaluation of an expression always produces or returns a result value while execution of a statement may or may not produces or displays a result value, it only does whatever the statement says.\n",
    "\n",
    "3) Every expression can’t be a statement while every statement can be an expression."
   ]
  },
  {
   "cell_type": "markdown",
   "id": "214dfb03",
   "metadata": {},
   "source": [
    "## Q6. After running the following code, what does the variable bacon contain?\n",
    "\n",
    "bacon = 22\n",
    "\n",
    "bacon + 1"
   ]
  },
  {
   "cell_type": "markdown",
   "id": "290c8c9d",
   "metadata": {},
   "source": [
    "### Ans6. 22"
   ]
  },
  {
   "cell_type": "markdown",
   "id": "3a5967d2",
   "metadata": {},
   "source": [
    "### bacon is assigned 22 but bacon+1 is not assigned, so it would contain the same value i.e. 22"
   ]
  },
  {
   "cell_type": "code",
   "execution_count": 3,
   "id": "f94e2b80",
   "metadata": {},
   "outputs": [
    {
     "data": {
      "text/plain": [
       "23"
      ]
     },
     "execution_count": 3,
     "metadata": {},
     "output_type": "execute_result"
    }
   ],
   "source": [
    "bacon = 22\n",
    "bacon + 1"
   ]
  },
  {
   "cell_type": "code",
   "execution_count": 4,
   "id": "32f135c9",
   "metadata": {},
   "outputs": [
    {
     "data": {
      "text/plain": [
       "22"
      ]
     },
     "execution_count": 4,
     "metadata": {},
     "output_type": "execute_result"
    }
   ],
   "source": [
    "bacon"
   ]
  },
  {
   "cell_type": "markdown",
   "id": "8d5f8f87",
   "metadata": {},
   "source": [
    "## Q7. What should the values of the following two terms be?\n",
    "\n",
    "'spam' + 'spamspam'\n",
    "\n",
    "'spam' * 3"
   ]
  },
  {
   "cell_type": "markdown",
   "id": "a2b41a5d",
   "metadata": {},
   "source": [
    "### Ans7. 'spamspamspam' \n",
    "\n",
    "### 'spamspamspam'"
   ]
  },
  {
   "cell_type": "code",
   "execution_count": 5,
   "id": "ca1b4301",
   "metadata": {},
   "outputs": [
    {
     "data": {
      "text/plain": [
       "'spamspamspam'"
      ]
     },
     "execution_count": 5,
     "metadata": {},
     "output_type": "execute_result"
    }
   ],
   "source": [
    "'spam' + 'spamspam'"
   ]
  },
  {
   "cell_type": "code",
   "execution_count": 6,
   "id": "84bc87f6",
   "metadata": {},
   "outputs": [
    {
     "data": {
      "text/plain": [
       "'spamspamspam'"
      ]
     },
     "execution_count": 6,
     "metadata": {},
     "output_type": "execute_result"
    }
   ],
   "source": [
    "'spam' * 3"
   ]
  },
  {
   "cell_type": "markdown",
   "id": "2dd2d9c6",
   "metadata": {},
   "source": [
    "## Q8. Why is eggs a valid variable name while 100 is invalid?"
   ]
  },
  {
   "cell_type": "markdown",
   "id": "1b62cbc7",
   "metadata": {},
   "source": [
    "### Ans8. Variable can not start with a number, It can only contains alpha-numeric characteristics and underscore, resreved words should not be used, it's case sensitive. That's why eggs is valid variable name but 100 is invalid."
   ]
  },
  {
   "cell_type": "markdown",
   "id": "6496cb3a",
   "metadata": {},
   "source": [
    "## Q9. What three functions can be used to get the integer, floating-point number, or string version of a value?"
   ]
  },
  {
   "cell_type": "markdown",
   "id": "551efe06",
   "metadata": {},
   "source": [
    "### Ans9. int(), float(), str()"
   ]
  },
  {
   "cell_type": "code",
   "execution_count": 7,
   "id": "d97b1dd2",
   "metadata": {},
   "outputs": [],
   "source": [
    "a=100"
   ]
  },
  {
   "cell_type": "code",
   "execution_count": 8,
   "id": "f0334626",
   "metadata": {},
   "outputs": [
    {
     "data": {
      "text/plain": [
       "int"
      ]
     },
     "execution_count": 8,
     "metadata": {},
     "output_type": "execute_result"
    }
   ],
   "source": [
    "type(a)"
   ]
  },
  {
   "cell_type": "code",
   "execution_count": 9,
   "id": "afc56e21",
   "metadata": {},
   "outputs": [],
   "source": [
    "b=float(a)"
   ]
  },
  {
   "cell_type": "code",
   "execution_count": 10,
   "id": "685dfb57",
   "metadata": {},
   "outputs": [
    {
     "data": {
      "text/plain": [
       "100.0"
      ]
     },
     "execution_count": 10,
     "metadata": {},
     "output_type": "execute_result"
    }
   ],
   "source": [
    "b"
   ]
  },
  {
   "cell_type": "code",
   "execution_count": 11,
   "id": "c8b11d80",
   "metadata": {},
   "outputs": [
    {
     "data": {
      "text/plain": [
       "float"
      ]
     },
     "execution_count": 11,
     "metadata": {},
     "output_type": "execute_result"
    }
   ],
   "source": [
    "type(b)"
   ]
  },
  {
   "cell_type": "code",
   "execution_count": 12,
   "id": "7e309c24",
   "metadata": {},
   "outputs": [],
   "source": [
    "c=str(a)"
   ]
  },
  {
   "cell_type": "code",
   "execution_count": 13,
   "id": "8633b830",
   "metadata": {},
   "outputs": [
    {
     "data": {
      "text/plain": [
       "'100'"
      ]
     },
     "execution_count": 13,
     "metadata": {},
     "output_type": "execute_result"
    }
   ],
   "source": [
    "c"
   ]
  },
  {
   "cell_type": "code",
   "execution_count": 14,
   "id": "bd4dacd6",
   "metadata": {},
   "outputs": [
    {
     "data": {
      "text/plain": [
       "str"
      ]
     },
     "execution_count": 14,
     "metadata": {},
     "output_type": "execute_result"
    }
   ],
   "source": [
    "type(c)"
   ]
  },
  {
   "cell_type": "markdown",
   "id": "43995da2",
   "metadata": {},
   "source": [
    "## Q10. Why does this expression cause an error? How can you fix it?\n",
    "'I have eaten ' + 99 + ' burritos.'"
   ]
  },
  {
   "cell_type": "markdown",
   "id": "87c9e7aa",
   "metadata": {},
   "source": [
    "### Ans10. This expression causes an error because we are trying to concatenate string & integer.\n",
    "\n",
    "### It can be fixed by converting the 99 from integer to string using single/double quote/str()."
   ]
  },
  {
   "cell_type": "code",
   "execution_count": 15,
   "id": "82af2b93",
   "metadata": {},
   "outputs": [
    {
     "data": {
      "text/plain": [
       "'I have eaten 99 burritos.'"
      ]
     },
     "execution_count": 15,
     "metadata": {},
     "output_type": "execute_result"
    }
   ],
   "source": [
    "'I have eaten ' +str(99) + ' burritos.'"
   ]
  },
  {
   "cell_type": "code",
   "execution_count": 16,
   "id": "7a22dd7f",
   "metadata": {},
   "outputs": [
    {
     "data": {
      "text/plain": [
       "'I have eaten 99 burritos.'"
      ]
     },
     "execution_count": 16,
     "metadata": {},
     "output_type": "execute_result"
    }
   ],
   "source": [
    "'I have eaten ' + \"99\" + ' burritos.'"
   ]
  },
  {
   "cell_type": "code",
   "execution_count": 17,
   "id": "990e241c",
   "metadata": {},
   "outputs": [
    {
     "data": {
      "text/plain": [
       "'I have eaten 99 burritos.'"
      ]
     },
     "execution_count": 17,
     "metadata": {},
     "output_type": "execute_result"
    }
   ],
   "source": [
    "'I have eaten ' + '99' + ' burritos.'"
   ]
  }
 ],
 "metadata": {
  "kernelspec": {
   "display_name": "Python 3 (ipykernel)",
   "language": "python",
   "name": "python3"
  },
  "language_info": {
   "codemirror_mode": {
    "name": "ipython",
    "version": 3
   },
   "file_extension": ".py",
   "mimetype": "text/x-python",
   "name": "python",
   "nbconvert_exporter": "python",
   "pygments_lexer": "ipython3",
   "version": "3.9.7"
  }
 },
 "nbformat": 4,
 "nbformat_minor": 5
}
