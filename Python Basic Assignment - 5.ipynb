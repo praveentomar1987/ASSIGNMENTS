{
 "cells": [
  {
   "cell_type": "markdown",
   "id": "2ba684b0",
   "metadata": {},
   "source": [
    "## Q1. What does an empty dictionary's code look like?"
   ]
  },
  {
   "cell_type": "markdown",
   "id": "d9b67ef5",
   "metadata": {},
   "source": [
    "### ANS1."
   ]
  },
  {
   "cell_type": "code",
   "execution_count": 1,
   "id": "727f56dc",
   "metadata": {},
   "outputs": [],
   "source": [
    "dic={}  # empty dictionary"
   ]
  },
  {
   "cell_type": "code",
   "execution_count": 2,
   "id": "b646d1f7",
   "metadata": {},
   "outputs": [
    {
     "name": "stdout",
     "output_type": "stream",
     "text": [
      "{}\n",
      "<class 'dict'>\n"
     ]
    }
   ],
   "source": [
    "print(dic)\n",
    "print(type(dic))"
   ]
  },
  {
   "cell_type": "markdown",
   "id": "48dd41ef",
   "metadata": {},
   "source": [
    "###### or"
   ]
  },
  {
   "cell_type": "code",
   "execution_count": 3,
   "id": "11213a2b",
   "metadata": {},
   "outputs": [
    {
     "name": "stdout",
     "output_type": "stream",
     "text": [
      "{}\n",
      "<class 'dict'>\n"
     ]
    }
   ],
   "source": [
    "d=dict()\n",
    "print(d)\n",
    "print(type(d))"
   ]
  },
  {
   "cell_type": "markdown",
   "id": "4f329246",
   "metadata": {},
   "source": [
    "## Q2. What is the value of a dictionary value with the key 'foo' and the value 42?"
   ]
  },
  {
   "cell_type": "markdown",
   "id": "b9e64da1",
   "metadata": {},
   "source": [
    "### ANS2."
   ]
  },
  {
   "cell_type": "code",
   "execution_count": 4,
   "id": "2c2029b5",
   "metadata": {},
   "outputs": [
    {
     "data": {
      "text/plain": [
       "{'foo': 42}"
      ]
     },
     "execution_count": 4,
     "metadata": {},
     "output_type": "execute_result"
    }
   ],
   "source": [
    "dic_2={'foo':42}\n",
    "dic_2"
   ]
  },
  {
   "cell_type": "markdown",
   "id": "ce1ccea4",
   "metadata": {},
   "source": [
    "## Q3. What is the most significant distinction between a dictionary and a list?"
   ]
  },
  {
   "cell_type": "markdown",
   "id": "339131f3",
   "metadata": {},
   "source": [
    "### ANS3. Dictionary holds keys and values pairs while list holds objects of differnt types. List is ordered while dictionary is unordered collection of items."
   ]
  },
  {
   "cell_type": "markdown",
   "id": "eb78f5cc",
   "metadata": {},
   "source": [
    "## Q4. What happens if you try to access spam['foo'] if spam is {'bar': 100}?"
   ]
  },
  {
   "cell_type": "markdown",
   "id": "e3068e0d",
   "metadata": {},
   "source": [
    "### ANS4."
   ]
  },
  {
   "cell_type": "code",
   "execution_count": 5,
   "id": "f2d092a8",
   "metadata": {},
   "outputs": [],
   "source": [
    "spam={'bar':100}"
   ]
  },
  {
   "cell_type": "code",
   "execution_count": 6,
   "id": "2c141dbd",
   "metadata": {},
   "outputs": [
    {
     "ename": "KeyError",
     "evalue": "'foo'",
     "output_type": "error",
     "traceback": [
      "\u001b[1;31m---------------------------------------------------------------------------\u001b[0m",
      "\u001b[1;31mKeyError\u001b[0m                                  Traceback (most recent call last)",
      "\u001b[1;32m~\\AppData\\Local\\Temp/ipykernel_4984/3999281786.py\u001b[0m in \u001b[0;36m<module>\u001b[1;34m\u001b[0m\n\u001b[1;32m----> 1\u001b[1;33m \u001b[0mspam\u001b[0m\u001b[1;33m[\u001b[0m\u001b[1;34m'foo'\u001b[0m\u001b[1;33m]\u001b[0m\u001b[1;33m\u001b[0m\u001b[1;33m\u001b[0m\u001b[0m\n\u001b[0m",
      "\u001b[1;31mKeyError\u001b[0m: 'foo'"
     ]
    }
   ],
   "source": [
    "spam['foo']"
   ]
  },
  {
   "cell_type": "markdown",
   "id": "e2de289e",
   "metadata": {},
   "source": [
    "### It'll throw a KeyError:    'foo'"
   ]
  },
  {
   "cell_type": "markdown",
   "id": "17c7bc0f",
   "metadata": {},
   "source": [
    "## Q5. If a dictionary is stored in spam, what is the difference between the expressions 'cat' in spam and 'cat' in spam.keys()?\n"
   ]
  },
  {
   "cell_type": "markdown",
   "id": "4f06cd52",
   "metadata": {},
   "source": [
    "### ANS5. There is no difference because in operator checks whether a value exists as a key in the dictionary."
   ]
  },
  {
   "cell_type": "code",
   "execution_count": 7,
   "id": "86e49bbe",
   "metadata": {},
   "outputs": [],
   "source": [
    "spam2={'cat':44}"
   ]
  },
  {
   "cell_type": "code",
   "execution_count": 8,
   "id": "3a7f902e",
   "metadata": {},
   "outputs": [
    {
     "data": {
      "text/plain": [
       "True"
      ]
     },
     "execution_count": 8,
     "metadata": {},
     "output_type": "execute_result"
    }
   ],
   "source": [
    "'cat' in spam2"
   ]
  },
  {
   "cell_type": "code",
   "execution_count": 9,
   "id": "d560a6b7",
   "metadata": {},
   "outputs": [
    {
     "data": {
      "text/plain": [
       "True"
      ]
     },
     "execution_count": 9,
     "metadata": {},
     "output_type": "execute_result"
    }
   ],
   "source": [
    "'cat' in spam2.keys()"
   ]
  },
  {
   "cell_type": "markdown",
   "id": "f4fe1579",
   "metadata": {},
   "source": [
    "## Q6. If a dictionary is stored in spam, what is the difference between the expressions 'cat' in spam and 'cat' in spam.values()?\n"
   ]
  },
  {
   "cell_type": "markdown",
   "id": "f650fd12",
   "metadata": {},
   "source": [
    "### ANS6. 'cat' in spam checks whether there is a 'cat' key in the dictionary while 'cat' in spam.values() checks whether there is a value 'cat' for one of the keys in spam."
   ]
  },
  {
   "cell_type": "code",
   "execution_count": 10,
   "id": "3ada36e0",
   "metadata": {},
   "outputs": [],
   "source": [
    "spam3={44:'cat'}"
   ]
  },
  {
   "cell_type": "code",
   "execution_count": 11,
   "id": "a9c33083",
   "metadata": {},
   "outputs": [
    {
     "data": {
      "text/plain": [
       "False"
      ]
     },
     "execution_count": 11,
     "metadata": {},
     "output_type": "execute_result"
    }
   ],
   "source": [
    "'cat' in spam3  "
   ]
  },
  {
   "cell_type": "markdown",
   "id": "bc8e512c",
   "metadata": {},
   "source": [
    "### It will check in keys only, so it's showing False"
   ]
  },
  {
   "cell_type": "code",
   "execution_count": 12,
   "id": "3d49a8bc",
   "metadata": {},
   "outputs": [
    {
     "data": {
      "text/plain": [
       "True"
      ]
     },
     "execution_count": 12,
     "metadata": {},
     "output_type": "execute_result"
    }
   ],
   "source": [
    "'cat' in spam3.values()"
   ]
  },
  {
   "cell_type": "markdown",
   "id": "a5efcfc7",
   "metadata": {},
   "source": [
    "### It will check in values only, so it's showing True"
   ]
  },
  {
   "cell_type": "markdown",
   "id": "c35e827e",
   "metadata": {},
   "source": [
    "### Q7. What is a shortcut for the following code?\n",
    "### if 'color' not in spam:\n",
    "### spam['color'] = 'black'\n",
    "\n"
   ]
  },
  {
   "cell_type": "markdown",
   "id": "487bed41",
   "metadata": {},
   "source": [
    "###### ANS7. "
   ]
  },
  {
   "cell_type": "code",
   "execution_count": 13,
   "id": "5fda4d15",
   "metadata": {},
   "outputs": [
    {
     "name": "stdout",
     "output_type": "stream",
     "text": [
      "{'bar': 100, 'color': 'black'}\n"
     ]
    }
   ],
   "source": [
    "# if 'color' not in spam:spam['color'] = 'black'\n",
    "# shortcut code\n",
    "spam.setdefault('color','black')\n",
    "print(spam)"
   ]
  },
  {
   "cell_type": "markdown",
   "id": "541ff4ee",
   "metadata": {},
   "source": [
    "## Q8. How do you \"pretty print\" dictionary values using which module and function?"
   ]
  },
  {
   "cell_type": "markdown",
   "id": "af9a9411",
   "metadata": {},
   "source": [
    "### ANS8. We'll print the pretty print using pprint() function of pprint module but it'll not prettify nested dictionaries then we'll use dump() function of yaml module."
   ]
  },
  {
   "cell_type": "code",
   "execution_count": 14,
   "id": "b4ae03bb",
   "metadata": {},
   "outputs": [],
   "source": [
    "dict_1 = [{'Name': 'Praveen', 'Age': '30', 'Residence': {'Country':'India', 'City': 'Gurgaon'}},\n",
    "          {'Name': 'Sachin', 'Age': '27', 'Residence': {'Country':'Spain', 'City': 'Madrid'}}]"
   ]
  },
  {
   "cell_type": "code",
   "execution_count": 15,
   "id": "46798239",
   "metadata": {},
   "outputs": [
    {
     "name": "stdout",
     "output_type": "stream",
     "text": [
      "using print function:\n",
      " [{'Name': 'Praveen', 'Age': '30', 'Residence': {'Country': 'India', 'City': 'Gurgaon'}}, {'Name': 'Sachin', 'Age': '27', 'Residence': {'Country': 'Spain', 'City': 'Madrid'}}]\n"
     ]
    }
   ],
   "source": [
    "print('using print function:\\n', dict_1)"
   ]
  },
  {
   "cell_type": "code",
   "execution_count": 16,
   "id": "461c8543",
   "metadata": {},
   "outputs": [
    {
     "name": "stdout",
     "output_type": "stream",
     "text": [
      "using pprint function of pprint module:\n",
      "[{'Age': '30',\n",
      "  'Name': 'Praveen',\n",
      "  'Residence': {'City': 'Gurgaon', 'Country': 'India'}},\n",
      " {'Age': '27',\n",
      "  'Name': 'Sachin',\n",
      "  'Residence': {'City': 'Madrid', 'Country': 'Spain'}}]\n"
     ]
    }
   ],
   "source": [
    "import pprint\n",
    "print('using pprint function of pprint module:')\n",
    "pprint.pprint(dict_1)"
   ]
  },
  {
   "cell_type": "code",
   "execution_count": 17,
   "id": "ba396143",
   "metadata": {},
   "outputs": [
    {
     "name": "stdout",
     "output_type": "stream",
     "text": [
      "using print function:\n",
      " {'Name': ['Praveen', 'Sachin'], 'Age': [30, 27], 'Residence': [{'Country': 'India', 'City': 'Gurgaon'}, {'Country': 'Spain', 'City': 'Madrid'}]}\n"
     ]
    }
   ],
   "source": [
    "dict_2 = {'Name': ['Praveen', 'Sachin'], 'Age': [30, 27], 'Residence': [{'Country':'India', 'City': 'Gurgaon'},{'Country':'Spain', 'City': 'Madrid'}]}\n",
    "print('using print function:\\n', dict_2)"
   ]
  },
  {
   "cell_type": "code",
   "execution_count": 18,
   "id": "2cdf3138",
   "metadata": {},
   "outputs": [
    {
     "name": "stdout",
     "output_type": "stream",
     "text": [
      "using dump function of yaml module:\n",
      " Age:\n",
      "- 30\n",
      "- 27\n",
      "Name:\n",
      "- Praveen\n",
      "- Sachin\n",
      "Residence:\n",
      "- City: Gurgaon\n",
      "  Country: India\n",
      "- City: Madrid\n",
      "  Country: Spain\n",
      "\n"
     ]
    }
   ],
   "source": [
    "import yaml\n",
    "dump=yaml.dump(dict_2)\n",
    "print('using dump function of yaml module:\\n',dump)"
   ]
  }
 ],
 "metadata": {
  "kernelspec": {
   "display_name": "Python 3 (ipykernel)",
   "language": "python",
   "name": "python3"
  },
  "language_info": {
   "codemirror_mode": {
    "name": "ipython",
    "version": 3
   },
   "file_extension": ".py",
   "mimetype": "text/x-python",
   "name": "python",
   "nbconvert_exporter": "python",
   "pygments_lexer": "ipython3",
   "version": "3.9.7"
  }
 },
 "nbformat": 4,
 "nbformat_minor": 5
}
