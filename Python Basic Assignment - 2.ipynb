{
 "cells": [
  {
   "cell_type": "markdown",
   "id": "69f20b04",
   "metadata": {},
   "source": [
    "## Q1.What are the two values of the Boolean data type? How do you write them?"
   ]
  },
  {
   "cell_type": "markdown",
   "id": "f935bc1b",
   "metadata": {},
   "source": [
    "### Ans1. 2 Values of the Boolean Data Type - True and False"
   ]
  },
  {
   "cell_type": "markdown",
   "id": "a37dd98c",
   "metadata": {},
   "source": [
    "### Firts letter capital and rest small"
   ]
  },
  {
   "cell_type": "code",
   "execution_count": 1,
   "id": "a186d628",
   "metadata": {},
   "outputs": [
    {
     "data": {
      "text/plain": [
       "True"
      ]
     },
     "execution_count": 1,
     "metadata": {},
     "output_type": "execute_result"
    }
   ],
   "source": [
    "1==1"
   ]
  },
  {
   "cell_type": "code",
   "execution_count": 2,
   "id": "cd34d247",
   "metadata": {},
   "outputs": [
    {
     "data": {
      "text/plain": [
       "False"
      ]
     },
     "execution_count": 2,
     "metadata": {},
     "output_type": "execute_result"
    }
   ],
   "source": [
    "1>1"
   ]
  },
  {
   "cell_type": "markdown",
   "id": "8083be3d",
   "metadata": {},
   "source": [
    "## Q2. What are the three different types of Boolean operators?"
   ]
  },
  {
   "cell_type": "markdown",
   "id": "5a6982d8",
   "metadata": {},
   "source": [
    "### Ans2. The logical operators ----\n",
    "\n",
    "1) AND - USED TO CHECK BOTH THE STATEMENTS ARE CORRECT\n",
    "\n",
    "2) OR - USED TO CHECK EITHER ONE OF THE STATEMENT IS TRUE\n",
    "\n",
    "3) NOT - REVISE THE RESULT BY USING NOT\n",
    "\n",
    "are also referred to as boolean operators."
   ]
  },
  {
   "cell_type": "markdown",
   "id": "12d0919f",
   "metadata": {},
   "source": [
    "## Q3. Make a list of each Boolean operator's truth tables (i.e. every possible combination of Boolean values for the operator and what it evaluate )."
   ]
  },
  {
   "cell_type": "markdown",
   "id": "78a88691",
   "metadata": {},
   "source": [
    "### Ans3. "
   ]
  },
  {
   "cell_type": "code",
   "execution_count": 3,
   "id": "9f9952dd",
   "metadata": {},
   "outputs": [
    {
     "name": "stdout",
     "output_type": "stream",
     "text": [
      "\n",
      " AND operator's truth table \n",
      " a  b aANDb\n",
      "[0, 0, 0]\n",
      "[0, 1, 0]\n",
      "[1, 1, 1]\n"
     ]
    }
   ],
   "source": [
    "# 0 is considered as False\n",
    "# 1 is considered as True\n",
    "andlist=[[0,0,0],[0,1,0],[1,1,1]]\n",
    "print(\"\\n AND operator's truth table \")\n",
    "print (\" a  b aANDb\")\n",
    "for i in andlist:\n",
    "    print(i)"
   ]
  },
  {
   "cell_type": "code",
   "execution_count": 4,
   "id": "6382ca21",
   "metadata": {},
   "outputs": [
    {
     "name": "stdout",
     "output_type": "stream",
     "text": [
      "\n",
      " OR operator's truth table \n",
      " a  b aORb\n",
      "[0, 0, 0]\n",
      "[0, 1, 1]\n",
      "[1, 1, 1]\n"
     ]
    }
   ],
   "source": [
    "orlist=[[0,0,0],[0,1,1],[1,1,1]]\n",
    "print(\"\\n OR operator's truth table \")\n",
    "print (\" a  b aORb\")\n",
    "for i in orlist:\n",
    "    print(i)"
   ]
  },
  {
   "cell_type": "code",
   "execution_count": 5,
   "id": "39172b85",
   "metadata": {},
   "outputs": [
    {
     "name": "stdout",
     "output_type": "stream",
     "text": [
      "\n",
      " NOT operator's truth table \n",
      " a  b aNOTb\n",
      "[0, 1]\n",
      "[1, 0]\n"
     ]
    }
   ],
   "source": [
    "notlist=[[0,1],[1,0]]\n",
    "print(\"\\n NOT operator's truth table \")\n",
    "print (\" a  b aNOTb\")\n",
    "for i in notlist:\n",
    "    print(i)"
   ]
  },
  {
   "cell_type": "markdown",
   "id": "39f178e5",
   "metadata": {},
   "source": [
    "### EXAMPLES"
   ]
  },
  {
   "cell_type": "code",
   "execution_count": 6,
   "id": "501fb60a",
   "metadata": {},
   "outputs": [],
   "source": [
    "x=100\n",
    "y=200\n",
    "z=300"
   ]
  },
  {
   "cell_type": "code",
   "execution_count": 7,
   "id": "366b7747",
   "metadata": {},
   "outputs": [
    {
     "data": {
      "text/plain": [
       "False"
      ]
     },
     "execution_count": 7,
     "metadata": {},
     "output_type": "execute_result"
    }
   ],
   "source": [
    "x>y and y>z"
   ]
  },
  {
   "cell_type": "code",
   "execution_count": 8,
   "id": "d05921b8",
   "metadata": {},
   "outputs": [
    {
     "data": {
      "text/plain": [
       "False"
      ]
     },
     "execution_count": 8,
     "metadata": {},
     "output_type": "execute_result"
    }
   ],
   "source": [
    "x>y and y<z"
   ]
  },
  {
   "cell_type": "code",
   "execution_count": 9,
   "id": "eeca1f60",
   "metadata": {},
   "outputs": [
    {
     "data": {
      "text/plain": [
       "True"
      ]
     },
     "execution_count": 9,
     "metadata": {},
     "output_type": "execute_result"
    }
   ],
   "source": [
    "x<y and y<z"
   ]
  },
  {
   "cell_type": "code",
   "execution_count": 10,
   "id": "1d763b68",
   "metadata": {},
   "outputs": [
    {
     "data": {
      "text/plain": [
       "False"
      ]
     },
     "execution_count": 10,
     "metadata": {},
     "output_type": "execute_result"
    }
   ],
   "source": [
    "x>y or y>z"
   ]
  },
  {
   "cell_type": "code",
   "execution_count": 11,
   "id": "151edcea",
   "metadata": {},
   "outputs": [
    {
     "data": {
      "text/plain": [
       "True"
      ]
     },
     "execution_count": 11,
     "metadata": {},
     "output_type": "execute_result"
    }
   ],
   "source": [
    "x>y or y<z"
   ]
  },
  {
   "cell_type": "code",
   "execution_count": 12,
   "id": "a1bedf97",
   "metadata": {},
   "outputs": [
    {
     "data": {
      "text/plain": [
       "True"
      ]
     },
     "execution_count": 12,
     "metadata": {},
     "output_type": "execute_result"
    }
   ],
   "source": [
    "x<y or y<z"
   ]
  },
  {
   "cell_type": "code",
   "execution_count": 13,
   "id": "918f73b3",
   "metadata": {},
   "outputs": [
    {
     "data": {
      "text/plain": [
       "True"
      ]
     },
     "execution_count": 13,
     "metadata": {},
     "output_type": "execute_result"
    }
   ],
   "source": [
    "not(x>y and y>z)"
   ]
  },
  {
   "cell_type": "code",
   "execution_count": 14,
   "id": "1950f6b0",
   "metadata": {},
   "outputs": [
    {
     "data": {
      "text/plain": [
       "False"
      ]
     },
     "execution_count": 14,
     "metadata": {},
     "output_type": "execute_result"
    }
   ],
   "source": [
    "not(x<y or y<z)"
   ]
  },
  {
   "cell_type": "markdown",
   "id": "777105eb",
   "metadata": {},
   "source": [
    "## Q4. What are the values of the following expressions?\n",
    "(5 > 4) and (3 == 5)\n",
    "\n",
    "not (5 > 4)\n",
    "\n",
    "(5 > 4) or (3 == 5)\n",
    "\n",
    "not ((5 > 4) or (3 == 5))\n",
    "\n",
    "(True and True) and (True == False)\n",
    "\n",
    "(not False) or (not True)"
   ]
  },
  {
   "cell_type": "markdown",
   "id": "ca57118c",
   "metadata": {},
   "source": [
    "### Ans4."
   ]
  },
  {
   "cell_type": "code",
   "execution_count": 15,
   "id": "7dca4935",
   "metadata": {},
   "outputs": [
    {
     "data": {
      "text/plain": [
       "False"
      ]
     },
     "execution_count": 15,
     "metadata": {},
     "output_type": "execute_result"
    }
   ],
   "source": [
    "(5 > 4) and (3 == 5)  # True and False output False"
   ]
  },
  {
   "cell_type": "code",
   "execution_count": 16,
   "id": "d7b8b09d",
   "metadata": {},
   "outputs": [
    {
     "data": {
      "text/plain": [
       "False"
      ]
     },
     "execution_count": 16,
     "metadata": {},
     "output_type": "execute_result"
    }
   ],
   "source": [
    "not (5 > 4) # not (True) o/p False"
   ]
  },
  {
   "cell_type": "code",
   "execution_count": 17,
   "id": "49126a53",
   "metadata": {},
   "outputs": [
    {
     "data": {
      "text/plain": [
       "True"
      ]
     },
     "execution_count": 17,
     "metadata": {},
     "output_type": "execute_result"
    }
   ],
   "source": [
    "(5 > 4) or (3 == 5)  # True or False o/p True"
   ]
  },
  {
   "cell_type": "code",
   "execution_count": 18,
   "id": "974752b6",
   "metadata": {},
   "outputs": [
    {
     "data": {
      "text/plain": [
       "False"
      ]
     },
     "execution_count": 18,
     "metadata": {},
     "output_type": "execute_result"
    }
   ],
   "source": [
    "not ((5 > 4) or (3 == 5)) # not (True or False) --> not(True) o/p False"
   ]
  },
  {
   "cell_type": "code",
   "execution_count": 19,
   "id": "b9535e1c",
   "metadata": {},
   "outputs": [
    {
     "data": {
      "text/plain": [
       "False"
      ]
     },
     "execution_count": 19,
     "metadata": {},
     "output_type": "execute_result"
    }
   ],
   "source": [
    "(True and True) and (True == False) # True and False o/p False"
   ]
  },
  {
   "cell_type": "code",
   "execution_count": 20,
   "id": "1fd285ca",
   "metadata": {},
   "outputs": [
    {
     "data": {
      "text/plain": [
       "True"
      ]
     },
     "execution_count": 20,
     "metadata": {},
     "output_type": "execute_result"
    }
   ],
   "source": [
    "(not False) or (not True) # True or False o/p True"
   ]
  },
  {
   "cell_type": "markdown",
   "id": "2473f78f",
   "metadata": {},
   "source": [
    "## Q5. What are the six comparison operators?"
   ]
  },
  {
   "cell_type": "markdown",
   "id": "0a63448b",
   "metadata": {},
   "source": [
    "### Ans5. Six comparison operators---\n",
    "\n",
    "1. == (equal to)\n",
    "\n",
    "2. != (not Equal to)\n",
    "\n",
    "3.>  (greater than)\n",
    "\n",
    "4. <  (less than)\n",
    "\n",
    "5.>=  (greater than or equal to)\n",
    "\n",
    "6. <=  (less than or equal to)"
   ]
  },
  {
   "cell_type": "markdown",
   "id": "3d56378c",
   "metadata": {},
   "source": [
    "## Q6. How do you tell the difference between the equal to and assignment operators?Describe a condition and when you would use one."
   ]
  },
  {
   "cell_type": "markdown",
   "id": "5652c874",
   "metadata": {},
   "source": [
    "### Ans6. Assignment operator \"=\", it's used to assign the value to a variable."
   ]
  },
  {
   "cell_type": "code",
   "execution_count": 21,
   "id": "1a9adac3",
   "metadata": {},
   "outputs": [],
   "source": [
    "x=10"
   ]
  },
  {
   "cell_type": "code",
   "execution_count": 22,
   "id": "2fd74c2c",
   "metadata": {},
   "outputs": [
    {
     "data": {
      "text/plain": [
       "10"
      ]
     },
     "execution_count": 22,
     "metadata": {},
     "output_type": "execute_result"
    }
   ],
   "source": [
    "x"
   ]
  },
  {
   "cell_type": "markdown",
   "id": "f555e35f",
   "metadata": {},
   "source": [
    "### Comparison operator \"==\" (equal to), it's used to compare two values and returns True if both are same, otherwise False."
   ]
  },
  {
   "cell_type": "code",
   "execution_count": 23,
   "id": "dd02ff9c",
   "metadata": {},
   "outputs": [
    {
     "data": {
      "text/plain": [
       "True"
      ]
     },
     "execution_count": 23,
     "metadata": {},
     "output_type": "execute_result"
    }
   ],
   "source": [
    "100==100"
   ]
  },
  {
   "cell_type": "code",
   "execution_count": 24,
   "id": "2c920620",
   "metadata": {},
   "outputs": [
    {
     "data": {
      "text/plain": [
       "False"
      ]
     },
     "execution_count": 24,
     "metadata": {},
     "output_type": "execute_result"
    }
   ],
   "source": [
    "True==False"
   ]
  },
  {
   "cell_type": "markdown",
   "id": "3baaae00",
   "metadata": {},
   "source": [
    "## Q7. Identify the three blocks in this code:\n",
    "spam = 0\n",
    "\n",
    "if spam == 10:\n",
    "\n",
    "print('eggs')\n",
    "\n",
    "if spam > 5:\n",
    "\n",
    "print('bacon')\n",
    "\n",
    "else:\n",
    "\n",
    "print('ham')\n",
    "\n",
    "print('spam')\n",
    "\n",
    "print('spam')"
   ]
  },
  {
   "cell_type": "markdown",
   "id": "d37c39ef",
   "metadata": {},
   "source": [
    "### Ans7."
   ]
  },
  {
   "cell_type": "code",
   "execution_count": 25,
   "id": "4a9009fb",
   "metadata": {},
   "outputs": [
    {
     "name": "stdout",
     "output_type": "stream",
     "text": [
      "ham\n",
      "spam\n",
      "spam\n"
     ]
    }
   ],
   "source": [
    "spam = 0  # 1st block\n",
    "    \n",
    "if spam == 10: # 2nd block\n",
    "    print(\"eggs\")  \n",
    "\n",
    "if spam > 5: # 3rd block\n",
    "    print(\"bacon\")\n",
    "else:\n",
    "    print(\"ham\")\n",
    "    print(\"spam\")\n",
    "    print(\"spam\")"
   ]
  },
  {
   "cell_type": "markdown",
   "id": "9196acaf",
   "metadata": {},
   "source": [
    "## Q8. Write code that prints Hello if 1 is stored in spam, prints Howdy if 2 is stored in spam, and prints Greetings! if anything else is stored in spam."
   ]
  },
  {
   "cell_type": "markdown",
   "id": "b67f6a52",
   "metadata": {},
   "source": [
    "### Ans8."
   ]
  },
  {
   "cell_type": "code",
   "execution_count": 26,
   "id": "681e296f",
   "metadata": {},
   "outputs": [
    {
     "name": "stdout",
     "output_type": "stream",
     "text": [
      "Enter spam value : 3\n",
      "Greetings!\n"
     ]
    }
   ],
   "source": [
    "spam=int(input(\"Enter spam value : \"))\n",
    "if spam==1:\n",
    "    print('Hello')\n",
    "elif spam==2:\n",
    "    print('Howdy')\n",
    "else:\n",
    "    print('Greetings!')"
   ]
  },
  {
   "cell_type": "markdown",
   "id": "81b5c5a2",
   "metadata": {},
   "source": [
    "## Q9.If your programme is stuck in an endless loop, what keys you’ll press?"
   ]
  },
  {
   "cell_type": "markdown",
   "id": "c47b39fb",
   "metadata": {},
   "source": [
    "### Ans9. Ctrl+c (to exit from endless loop)"
   ]
  },
  {
   "cell_type": "markdown",
   "id": "3ad79274",
   "metadata": {},
   "source": [
    "## Q10. How can you tell the difference between break and continue?"
   ]
  },
  {
   "cell_type": "markdown",
   "id": "e381ea50",
   "metadata": {},
   "source": [
    "### Ans10. The main difference between both the statements is that when break keyword comes, it terminates the execution of the current loop and passes the control over the next loop or main body, whereas when continue keyword is encountered, it skips the current iteration and executes the very next iteration in the loop."
   ]
  },
  {
   "cell_type": "code",
   "execution_count": 27,
   "id": "ad5592f3",
   "metadata": {},
   "outputs": [
    {
     "name": "stdout",
     "output_type": "stream",
     "text": [
      "s\n",
      "t\n",
      "r\n",
      "The End\n"
     ]
    }
   ],
   "source": [
    "# Break example\n",
    "for letter in \"string\":\n",
    "    if letter==\"i\":\n",
    "        break\n",
    "    print(letter)\n",
    "print('The End')"
   ]
  },
  {
   "cell_type": "code",
   "execution_count": 28,
   "id": "0cc37f6d",
   "metadata": {},
   "outputs": [
    {
     "name": "stdout",
     "output_type": "stream",
     "text": [
      "s\n",
      "t\n",
      "r\n",
      "n\n",
      "g\n",
      "The End\n"
     ]
    }
   ],
   "source": [
    "# Continue example\n",
    "for letter in \"string\":\n",
    "    if letter=='i':\n",
    "        continue\n",
    "    print(letter)\n",
    "print('The End')"
   ]
  },
  {
   "cell_type": "markdown",
   "id": "c564b28e",
   "metadata": {},
   "source": [
    "## Q11. In a for loop, what is the difference between range(10), range(0, 10), and range(0, 10, 1)?"
   ]
  },
  {
   "cell_type": "markdown",
   "id": "012be3f0",
   "metadata": {},
   "source": [
    "### Ans11. There is no differnce in output, these are just the different ways of writting, it starts from 0 and goes upto 9 (0-9, 10 numbers) by taking the dafault increment 1."
   ]
  },
  {
   "cell_type": "code",
   "execution_count": 29,
   "id": "5c313031",
   "metadata": {},
   "outputs": [
    {
     "name": "stdout",
     "output_type": "stream",
     "text": [
      "0\n",
      "1\n",
      "2\n",
      "3\n",
      "4\n",
      "5\n",
      "6\n",
      "7\n",
      "8\n",
      "9\n"
     ]
    }
   ],
   "source": [
    "for i in range(10):\n",
    "    print(i)"
   ]
  },
  {
   "cell_type": "code",
   "execution_count": 30,
   "id": "58d0b317",
   "metadata": {},
   "outputs": [
    {
     "name": "stdout",
     "output_type": "stream",
     "text": [
      "0\n",
      "1\n",
      "2\n",
      "3\n",
      "4\n",
      "5\n",
      "6\n",
      "7\n",
      "8\n",
      "9\n"
     ]
    }
   ],
   "source": [
    "for i in range(0,10):\n",
    "    print(i)"
   ]
  },
  {
   "cell_type": "code",
   "execution_count": 31,
   "id": "b8ad9762",
   "metadata": {},
   "outputs": [
    {
     "name": "stdout",
     "output_type": "stream",
     "text": [
      "0\n",
      "1\n",
      "2\n",
      "3\n",
      "4\n",
      "5\n",
      "6\n",
      "7\n",
      "8\n",
      "9\n"
     ]
    }
   ],
   "source": [
    "for i in range(0,10,1):\n",
    "    print(i)"
   ]
  },
  {
   "cell_type": "markdown",
   "id": "44d2a1e1",
   "metadata": {},
   "source": [
    "## Q12. Write a short program that prints the numbers 1 to 10 using a for loop. Then write an equivalent program that prints the numbers 1 to 10 using a while loop.\n"
   ]
  },
  {
   "cell_type": "markdown",
   "id": "8b2c3b17",
   "metadata": {},
   "source": [
    "### Ans12."
   ]
  },
  {
   "cell_type": "code",
   "execution_count": 32,
   "id": "2db11874",
   "metadata": {
    "scrolled": true
   },
   "outputs": [
    {
     "name": "stdout",
     "output_type": "stream",
     "text": [
      "1\n",
      "2\n",
      "3\n",
      "4\n",
      "5\n",
      "6\n",
      "7\n",
      "8\n",
      "9\n",
      "10\n"
     ]
    }
   ],
   "source": [
    "# for loop\n",
    "for i in range (1,11):\n",
    "    print(i)"
   ]
  },
  {
   "cell_type": "code",
   "execution_count": 33,
   "id": "04113f78",
   "metadata": {},
   "outputs": [
    {
     "name": "stdout",
     "output_type": "stream",
     "text": [
      "1\n",
      "2\n",
      "3\n",
      "4\n",
      "5\n",
      "6\n",
      "7\n",
      "8\n",
      "9\n",
      "10\n"
     ]
    }
   ],
   "source": [
    "# while loop\n",
    "num=1\n",
    "while num<=10:\n",
    "    print (num)\n",
    "    num+=1"
   ]
  },
  {
   "cell_type": "markdown",
   "id": "1bc1dc8c",
   "metadata": {},
   "source": [
    "## Q13. If you had a function named bacon() inside a module named spam, how would you call it after importing spam?"
   ]
  },
  {
   "cell_type": "markdown",
   "id": "f156df3c",
   "metadata": {},
   "source": [
    "### Ans13."
   ]
  },
  {
   "cell_type": "markdown",
   "id": "caee7e76",
   "metadata": {},
   "source": [
    "import spam\n",
    "\n",
    "spm=spam.bacon()"
   ]
  }
 ],
 "metadata": {
  "kernelspec": {
   "display_name": "Python 3 (ipykernel)",
   "language": "python",
   "name": "python3"
  },
  "language_info": {
   "codemirror_mode": {
    "name": "ipython",
    "version": 3
   },
   "file_extension": ".py",
   "mimetype": "text/x-python",
   "name": "python",
   "nbconvert_exporter": "python",
   "pygments_lexer": "ipython3",
   "version": "3.9.7"
  }
 },
 "nbformat": 4,
 "nbformat_minor": 5
}
