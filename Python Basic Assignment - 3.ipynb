{
 "cells": [
  {
   "cell_type": "markdown",
   "id": "5bb8a933",
   "metadata": {},
   "source": [
    "## Q1. Why are functions advantageous to have in your programs?"
   ]
  },
  {
   "cell_type": "markdown",
   "id": "549f650e",
   "metadata": {},
   "source": [
    "### ANS1. Advantages of functions to have in our programs-\n",
    "### 1. We can avoid rewriting the same logic/code again and again. (AVOID REPETATION)\n",
    "### 2. We can call Python functions multiple times in a program.(REUSABILITY)\n",
    "### 3. We can track a large Python program easily when it is divided into multiple functions. (MODULARITY)"
   ]
  },
  {
   "cell_type": "markdown",
   "id": "4bc615ea",
   "metadata": {},
   "source": [
    "## Q2. When does the code in a function run: when it's specified or when it's called?"
   ]
  },
  {
   "cell_type": "markdown",
   "id": "cf260fe0",
   "metadata": {},
   "source": [
    "### ANS2. The code in a function runs when it's called."
   ]
  },
  {
   "cell_type": "markdown",
   "id": "959ca2c1",
   "metadata": {},
   "source": [
    "## Q3. What statement creates a function?"
   ]
  },
  {
   "cell_type": "markdown",
   "id": "9ad00551",
   "metadata": {},
   "source": [
    "### ANS3. def function_name (arguments):                    #Creates a new function\n",
    "### return arguments                              #Function Body (code to execute)\n",
    "    "
   ]
  },
  {
   "cell_type": "markdown",
   "id": "abee25bc",
   "metadata": {},
   "source": [
    "## Q4. What is the difference between a function and a function call?"
   ]
  },
  {
   "cell_type": "markdown",
   "id": "3e62aacd",
   "metadata": {},
   "source": [
    "### ANS4. A function is a piece of code which enhanced the reusability and modularity of your program. It means that piece of code need not be written again.\n",
    "\n",
    "### A function call means invoking or calling that function. Unless a function is called there is no use of that function."
   ]
  },
  {
   "cell_type": "markdown",
   "id": "238742cb",
   "metadata": {},
   "source": [
    "## Q5. How many global scopes are there in a Python program? How many local scopes?"
   ]
  },
  {
   "cell_type": "markdown",
   "id": "cc39b49f",
   "metadata": {},
   "source": [
    "### ANS5. One Global scope and a local scope is created whenever a function is called."
   ]
  },
  {
   "cell_type": "markdown",
   "id": "ee275d39",
   "metadata": {},
   "source": [
    "## Q6. What happens to variables in a local scope when the function call returns?\n"
   ]
  },
  {
   "cell_type": "markdown",
   "id": "9939eef4",
   "metadata": {},
   "source": [
    "### ANS6. When the function returns, the local variables are destroyed and all the variables in it are forgotten, we'll not not be able to access these outside the function."
   ]
  },
  {
   "cell_type": "markdown",
   "id": "e0bc39e9",
   "metadata": {},
   "source": [
    "## Q7. What is the concept of a return value? Is it possible to have a return value in an expression?"
   ]
  },
  {
   "cell_type": "markdown",
   "id": "8d89e0da",
   "metadata": {},
   "source": [
    "### ANS7. A function takes arguments, performs some operations and returns a value. The value that a function returns to the caller is generally known as the function's return value. A return value can be used as a part of an expression."
   ]
  },
  {
   "cell_type": "markdown",
   "id": "9021cc04",
   "metadata": {},
   "source": [
    "## Q8. If a function does not have a return statement, what is the return value of a call to that function?"
   ]
  },
  {
   "cell_type": "markdown",
   "id": "815e210c",
   "metadata": {},
   "source": [
    "### ANS8. If there is no return statement in a function, the return value of a call to that function is None."
   ]
  },
  {
   "cell_type": "markdown",
   "id": "61ee5997",
   "metadata": {},
   "source": [
    "## Q9. How do you make a function variable refer to the global variable?\n"
   ]
  },
  {
   "cell_type": "markdown",
   "id": "23dc543c",
   "metadata": {},
   "source": [
    "### ANS9. We'll use the global keyword to declare which variable is global. Example:- global a"
   ]
  },
  {
   "cell_type": "markdown",
   "id": "86484337",
   "metadata": {},
   "source": [
    "## Q10. What is the data type of None?"
   ]
  },
  {
   "cell_type": "markdown",
   "id": "63eba25d",
   "metadata": {},
   "source": [
    "### ANS10. The data type of None is NoneType."
   ]
  },
  {
   "cell_type": "markdown",
   "id": "bb813dcd",
   "metadata": {},
   "source": [
    "## Q11. What does the sentence import areallyourpetsnamederic do?\n"
   ]
  },
  {
   "cell_type": "markdown",
   "id": "88fbb28a",
   "metadata": {},
   "source": [
    "### ANS11. It'll throw an errror (ModuleNotFoundError) because it's not a Python module:-"
   ]
  },
  {
   "cell_type": "code",
   "execution_count": 1,
   "id": "e8e5dbc2",
   "metadata": {},
   "outputs": [
    {
     "ename": "ModuleNotFoundError",
     "evalue": "No module named 'areallyourpetsnamederic'",
     "output_type": "error",
     "traceback": [
      "\u001b[1;31m---------------------------------------------------------------------------\u001b[0m",
      "\u001b[1;31mModuleNotFoundError\u001b[0m                       Traceback (most recent call last)",
      "\u001b[1;32m~\\AppData\\Local\\Temp/ipykernel_732/51184242.py\u001b[0m in \u001b[0;36m<module>\u001b[1;34m\u001b[0m\n\u001b[1;32m----> 1\u001b[1;33m \u001b[1;32mimport\u001b[0m \u001b[0mareallyourpetsnamederic\u001b[0m\u001b[1;33m\u001b[0m\u001b[1;33m\u001b[0m\u001b[0m\n\u001b[0m",
      "\u001b[1;31mModuleNotFoundError\u001b[0m: No module named 'areallyourpetsnamederic'"
     ]
    }
   ],
   "source": [
    "import areallyourpetsnamederic"
   ]
  },
  {
   "cell_type": "markdown",
   "id": "feed16c5",
   "metadata": {},
   "source": [
    "## Q12. If you had a bacon() feature in a spam module, what would you call it after importing spam?"
   ]
  },
  {
   "cell_type": "markdown",
   "id": "059d27ce",
   "metadata": {},
   "source": [
    "### ANS12. We'll call it with spam.bacon()\n",
    "import spam\n",
    "\n",
    "spam.bacon()"
   ]
  },
  {
   "cell_type": "markdown",
   "id": "76200b79",
   "metadata": {},
   "source": [
    "## Q13. What can you do to save a programme from crashing if it encounters an error?"
   ]
  },
  {
   "cell_type": "markdown",
   "id": "49f76c3b",
   "metadata": {},
   "source": [
    "### ANS13. We'll write our programme in try-except clause to save it from crashing if it encounters an error."
   ]
  },
  {
   "cell_type": "markdown",
   "id": "3d689ace",
   "metadata": {},
   "source": [
    "## Q14. What is the purpose of the try clause? What is the purpose of the except clause?"
   ]
  },
  {
   "cell_type": "markdown",
   "id": "91b3f8ff",
   "metadata": {},
   "source": [
    "### ANS14. Try Clause : The code that could potentially cause an error goes in the try clause.\n",
    "### Except Clause : The code that executes if an error happens goes in the except clause."
   ]
  }
 ],
 "metadata": {
  "kernelspec": {
   "display_name": "Python 3 (ipykernel)",
   "language": "python",
   "name": "python3"
  },
  "language_info": {
   "codemirror_mode": {
    "name": "ipython",
    "version": 3
   },
   "file_extension": ".py",
   "mimetype": "text/x-python",
   "name": "python",
   "nbconvert_exporter": "python",
   "pygments_lexer": "ipython3",
   "version": "3.9.7"
  }
 },
 "nbformat": 4,
 "nbformat_minor": 5
}
